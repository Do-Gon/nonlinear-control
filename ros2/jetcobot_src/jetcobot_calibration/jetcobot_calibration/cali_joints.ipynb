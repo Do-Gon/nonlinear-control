{
 "cells": [
  {
   "cell_type": "markdown",
   "id": "2e0aebcd-a1f3-46dd-8f00-b657679ed5dd",
   "metadata": {},
   "source": [
    "# 校准机械臂关节 Calibration joints"
   ]
  },
  {
   "cell_type": "code",
   "execution_count": 16,
   "id": "17c10e27-60a8-401b-97f5-262365b23b65",
   "metadata": {},
   "outputs": [],
   "source": [
    "# 导入库  import library\n",
    "import os\n",
    "import time\n",
    "import ipywidgets.widgets as widgets\n",
    "from IPython.display import display\n",
    "from pymycobot.mycobot import MyCobot"
   ]
  },
  {
   "cell_type": "code",
   "execution_count": 17,
   "id": "ae62e0c9-f391-4b81-98c1-25f195268838",
   "metadata": {},
   "outputs": [
    {
     "name": "stdout",
     "output_type": "stream",
     "text": [
      "Note: This class is no longer maintained since v3.6.0, please refer to the project documentation: https://github.com/elephantrobotics/pymycobot/blob/main/README.md\n"
     ]
    }
   ],
   "source": [
    "mc = MyCobot('/dev/ttyUSB0', 1000000)"
   ]
  },
  {
   "cell_type": "code",
   "execution_count": 18,
   "id": "4a256b24-e455-46d0-bef1-0a20b5379245",
   "metadata": {},
   "outputs": [],
   "source": [
    "# 读取机械臂关节角度 Read\n",
    "button_Read = widgets.Button(     \n",
    "    description='Read',        \n",
    "    button_style='info', # 'success', 'info', 'warning', 'danger' or ''     \n",
    "    tooltip='Description',\n",
    "    icon='uncheck' )\n",
    "\n",
    "# 校准机械臂 Calibration\n",
    "button_Calibration = widgets.Button(     \n",
    "    description='Calibration',        \n",
    "    button_style='success', # 'success', 'info', 'warning', 'danger' or ''     \n",
    "    tooltip='Description',\n",
    "    icon='uncheck' )\n",
    "\n",
    "# 松开机械臂 Release\n",
    "button_Release = widgets.Button(     \n",
    "    description='Release',        \n",
    "    button_style='danger', # 'success', 'info', 'warning', 'danger' or ''     \n",
    "    tooltip='Description',\n",
    "    icon='uncheck' )\n",
    "\n",
    "# 按键按下事件处理   Key press event processing\n",
    "def on_button_clicked(b):\n",
    "    with output:\n",
    "        print(\"Button clicked:\", b.description)\n",
    "    if b.description == 'Read':\n",
    "        with output:\n",
    "            print(\"read joints:\", mc.get_angles())\n",
    "\n",
    "    elif b.description == 'Calibration':\n",
    "        for i in range(1, 7):\n",
    "            mc.set_servo_calibration(i)\n",
    "            time.sleep(1)\n",
    "        mc.power_on()\n",
    "        with output:\n",
    "            print(\"calibration complete\")\n",
    "    elif b.description == 'Release':\n",
    "        mc.release_all_servos()\n",
    "    \n",
    "# 关联按键事件回调 Button event callbacks\n",
    "button_Read.on_click(on_button_clicked)    \n",
    "button_Calibration.on_click(on_button_clicked)    \n",
    "button_Release.on_click(on_button_clicked)    "
   ]
  },
  {
   "cell_type": "code",
   "execution_count": 19,
   "id": "0ce76dcf-fd37-44f0-a83e-443b990efb8e",
   "metadata": {},
   "outputs": [
    {
     "data": {
      "application/vnd.jupyter.widget-view+json": {
       "model_id": "75f545b3b18b4ff7a9061d3068f5e869",
       "version_major": 2,
       "version_minor": 0
      },
      "text/plain": [
       "HBox(children=(Button(button_style='danger', description='Release', icon='uncheck', style=ButtonStyle(), toolt…"
      ]
     },
     "metadata": {},
     "output_type": "display_data"
    }
   ],
   "source": [
    "output = widgets.Output()\n",
    "box_display = widgets.HBox([button_Release, button_Calibration, button_Read, output])\n",
    "display(box_display)\n"
   ]
  }
 ],
 "metadata": {
  "kernelspec": {
   "display_name": "Python 3",
   "language": "python",
   "name": "python3"
  },
  "language_info": {
   "codemirror_mode": {
    "name": "ipython",
    "version": 3
   },
   "file_extension": ".py",
   "mimetype": "text/x-python",
   "name": "python",
   "nbconvert_exporter": "python",
   "pygments_lexer": "ipython3",
   "version": "3.9.5"
  }
 },
 "nbformat": 4,
 "nbformat_minor": 5
}
