{
 "cells": [
  {
   "cell_type": "markdown",
   "id": "2e0aebcd-a1f3-46dd-8f00-b657679ed5dd",
   "metadata": {},
   "source": [
    "# 校准机械臂夹爪 Calibration gripper"
   ]
  },
  {
   "cell_type": "code",
   "execution_count": 2,
   "id": "17c10e27-60a8-401b-97f5-262365b23b65",
   "metadata": {},
   "outputs": [],
   "source": [
    "# 导入库  import library\n",
    "import os\n",
    "import time\n",
    "import ipywidgets.widgets as widgets\n",
    "from IPython.display import display\n",
    "from pymycobot.mycobot import MyCobot"
   ]
  },
  {
   "cell_type": "code",
   "execution_count": 3,
   "id": "ae62e0c9-f391-4b81-98c1-25f195268838",
   "metadata": {},
   "outputs": [
    {
     "name": "stdout",
     "output_type": "stream",
     "text": [
      "Note: This class is no longer maintained since v3.6.0, please refer to the project documentation: https://github.com/elephantrobotics/pymycobot/blob/main/README.md\n"
     ]
    }
   ],
   "source": [
    "mc = MyCobot('/dev/ttyUSB0', 1000000)"
   ]
  },
  {
   "cell_type": "code",
   "execution_count": null,
   "id": "4a256b24-e455-46d0-bef1-0a20b5379245",
   "metadata": {},
   "outputs": [],
   "source": [
    "# 读取机械臂关节角度 Read\n",
    "button_Read = widgets.Button(     \n",
    "    description='Read',        \n",
    "    button_style='info', # 'success', 'info', 'warning', 'danger' or ''     \n",
    "    tooltip='Description',\n",
    "    icon='uncheck' )\n",
    "\n",
    "# 校准机械臂 Calibration\n",
    "button_Calibration = widgets.Button(     \n",
    "    description='Calibration',        \n",
    "    button_style='success', # 'success', 'info', 'warning', 'danger' or ''     \n",
    "    tooltip='Description',\n",
    "    icon='uncheck' )\n",
    "\n",
    "# 松开机械臂 Release\n",
    "button_Release = widgets.Button(     \n",
    "    description='Release',        \n",
    "    button_style='danger', # 'success', 'info', 'warning', 'danger' or ''     \n",
    "    tooltip='Description',\n",
    "    icon='uncheck' )\n",
    "\n",
    "# 按键按下事件处理   Key press event processing\n",
    "def on_button_clicked(b):\n",
    "    with output:\n",
    "        print(\"Button clicked:\", b.description)\n",
    "    if b.description == 'Read':\n",
    "        with output:\n",
    "            print(\"read gripper:\", mc.get_gripper_value())\n",
    "\n",
    "    elif b.description == 'Calibration':\n",
    "        mc.set_gripper_calibration()\n",
    "        with output:\n",
    "            print(\"calibration complete\")\n",
    "    elif b.description == 'Release':\n",
    "        mc.release_servo(7)\n",
    "    \n",
    "# 关联按键事件回调 Button event callbacks\n",
    "button_Read.on_click(on_button_clicked)    \n",
    "button_Calibration.on_click(on_button_clicked)    \n",
    "button_Release.on_click(on_button_clicked)    "
   ]
  },
  {
   "cell_type": "code",
   "execution_count": 5,
   "id": "0ce76dcf-fd37-44f0-a83e-443b990efb8e",
   "metadata": {},
   "outputs": [
    {
     "data": {
      "application/vnd.jupyter.widget-view+json": {
       "model_id": "8d732c0f41d3429bbcc83f16c7fde7cf",
       "version_major": 2,
       "version_minor": 0
      },
      "text/plain": [
       "HBox(children=(Button(button_style='danger', description='Release', icon='uncheck', style=ButtonStyle(), toolt…"
      ]
     },
     "metadata": {},
     "output_type": "display_data"
    }
   ],
   "source": [
    "output = widgets.Output()\n",
    "box_display = widgets.HBox([button_Release, button_Calibration, button_Read, output])\n",
    "display(box_display)\n"
   ]
  }
 ],
 "metadata": {
  "kernelspec": {
   "display_name": "Python 3",
   "language": "python",
   "name": "python3"
  },
  "language_info": {
   "codemirror_mode": {
    "name": "ipython",
    "version": 3
   },
   "file_extension": ".py",
   "mimetype": "text/x-python",
   "name": "python",
   "nbconvert_exporter": "python",
   "pygments_lexer": "ipython3",
   "version": "3.9.5"
  }
 },
 "nbformat": 4,
 "nbformat_minor": 5
}
