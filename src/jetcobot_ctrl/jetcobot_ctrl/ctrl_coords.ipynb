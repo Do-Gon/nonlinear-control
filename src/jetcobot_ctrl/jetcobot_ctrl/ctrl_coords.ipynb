{
 "cells": [
  {
   "cell_type": "markdown",
   "id": "2e0aebcd-a1f3-46dd-8f00-b657679ed5dd",
   "metadata": {},
   "source": [
    "# 控制机械臂坐标 Control coords"
   ]
  },
  {
   "cell_type": "code",
   "execution_count": 1,
   "id": "17c10e27-60a8-401b-97f5-262365b23b65",
   "metadata": {},
   "outputs": [],
   "source": [
    "# 导入库  import library\n",
    "import os\n",
    "import ipywidgets.widgets as widgets\n",
    "from IPython.display import display\n",
    "import time\n",
    "import threading\n",
    "import cv2 as cv\n",
    "from pymycobot.mycobot import MyCobot\n",
    "from pymycobot.genre import Angle"
   ]
  },
  {
   "cell_type": "code",
   "execution_count": 2,
   "id": "ae62e0c9-f391-4b81-98c1-25f195268838",
   "metadata": {},
   "outputs": [
    {
     "name": "stdout",
     "output_type": "stream",
     "text": [
      "Note: This class is no longer maintained since v3.6.0, please refer to the project documentation: https://github.com/elephantrobotics/pymycobot/blob/main/README.md\n"
     ]
    }
   ],
   "source": [
    "mc = MyCobot('/dev/ttyUSB0', 1000000)\n",
    "g_speed = 50"
   ]
  },
  {
   "cell_type": "code",
   "execution_count": null,
   "id": "4a256b24-e455-46d0-bef1-0a20b5379245",
   "metadata": {},
   "outputs": [],
   "source": [
    "# 重置机械臂关节角度 reset joints\n",
    "button_reset = widgets.Button(     \n",
    "    description='Reset',        \n",
    "    button_style='info', # 'success', 'info', 'warning', 'danger' or ''     \n",
    "    tooltip='Description',\n",
    "    icon='uncheck' )\n",
    "\n",
    "# 打开机械臂电源 Power_on\n",
    "button_power_on = widgets.Button(     \n",
    "    description='Power_on',        \n",
    "    button_style='success', # 'success', 'info', 'warning', 'danger' or ''     \n",
    "    tooltip='Description',\n",
    "    icon='uncheck' )\n",
    "\n",
    "# 关闭机械臂电源 Power_off\n",
    "button_power_off = widgets.Button(     \n",
    "    description='Power_off',        \n",
    "    button_style='danger', # 'success', 'info', 'warning', 'danger' or ''     \n",
    "    tooltip='Description',\n",
    "    icon='uncheck' )\n",
    "\n",
    "# 按键按下事件处理   Key press event processing\n",
    "def on_button_clicked(b):\n",
    "    with output:\n",
    "        print(\"Button clicked:\", b.description)\n",
    "    if b.description == 'Reset':\n",
    "        reset_joints()\n",
    "    elif b.description == 'Power_on':\n",
    "        mc.power_on()\n",
    "        b.icon = 'check'\n",
    "        button_power_off.icon = 'uncheck'\n",
    "    elif b.description == 'Power_off':\n",
    "        mc.power_off()\n",
    "        b.icon = 'check'\n",
    "        button_power_on.icon = 'uncheck'\n",
    "    \n",
    "# 关联按键事件回调 Button event callbacks\n",
    "button_reset.on_click(on_button_clicked)    \n",
    "button_power_on.on_click(on_button_clicked)    \n",
    "button_power_off.on_click(on_button_clicked)    "
   ]
  },
  {
   "cell_type": "code",
   "execution_count": 4,
   "id": "be95581d-0391-476f-b66b-af4e72165604",
   "metadata": {},
   "outputs": [],
   "source": [
    "def on_slider_gripper(angle):\n",
    "    print(\"G7:\", angle)\n",
    "    mc.set_gripper_value(angle, g_speed)\n",
    "\n",
    "\n",
    "def on_slider_coords(x, y, z, rx, ry, rz):\n",
    "    coords = [x, y, z, rx, ry, rz]\n",
    "    mc.send_coords(coords, g_speed, 0)"
   ]
  },
  {
   "cell_type": "code",
   "execution_count": 5,
   "id": "6598063b-0619-4672-8036-915f791cdab9",
   "metadata": {},
   "outputs": [],
   "source": [
    "# 新建滑动条来控制舵机角度。 New sliders to control motor Angle.\n",
    "slider_x = widgets.IntSlider(description='x:', value=50, min=-280, max=280, step=1, orientation='horizontal')\n",
    "slider_y = widgets.IntSlider(description='y:', value=-64, min=-280, max=280, step=1, orientation='horizontal')\n",
    "slider_z = widgets.IntSlider(description='z:', value=419, min=-70, max=419, step=1, orientation='horizontal')\n",
    "slider_rx = widgets.IntSlider(description='rx:', value=-90 , min=-180, max=180, step=1, orientation='horizontal')\n",
    "slider_ry = widgets.IntSlider(description='ry:', value=-45, min=-180, max=180, step=1, orientation='horizontal')\n",
    "slider_rz = widgets.IntSlider(description='rz:', value=-90, min=-180, max=180, step=1, orientation='horizontal')\n",
    "slider_g = widgets.IntSlider(description='g:', value=100 , min=30, max=100, step=1, orientation='horizontal')\n",
    "\n",
    "widget_coords = widgets.interactive(on_slider_coords, x=slider_x, y=slider_y, z=slider_z, rx=slider_rx, ry=slider_ry, rz=slider_rz)\n",
    "widget_gripper = widgets.interactive(on_slider_gripper, angle=slider_g)\n",
    "\n",
    "box_joints = widgets.VBox([widget_gripper, widget_coords])"
   ]
  },
  {
   "cell_type": "code",
   "execution_count": 6,
   "id": "55e0aa99-5196-4d44-a125-f1f591ee5da0",
   "metadata": {},
   "outputs": [],
   "source": [
    "# 新建滑动条来控制运动速度。 New sliders to control speed\n",
    "slider_speed = widgets.IntSlider(description='Speed:', value=50, min=1, max=100, step=1, orientation='horizontal')\n",
    "\n",
    "def on_slider_speed(value):\n",
    "    global mc, g_speed\n",
    "    g_speed = value\n",
    "    print(\"speed:\", value)\n",
    "\n",
    "widget_speed = widgets.interactive(on_slider_speed, value=slider_speed)"
   ]
  },
  {
   "cell_type": "code",
   "execution_count": 10,
   "id": "7d78f1e3-e079-4000-ac8e-e3701a6303f7",
   "metadata": {},
   "outputs": [],
   "source": [
    "def reset_joints():\n",
    "    if button_power_off.icon == 'check':\n",
    "        mc.power_on()\n",
    "        time.sleep(1)\n",
    "    mc.send_angles([0, 0, 0, 0, 0, -45], 50)\n",
    "    mc.set_gripper_value(100, 50)\n",
    "    slider_x.value = 50\n",
    "    slider_y.value = -64\n",
    "    slider_z.value = 419\n",
    "    slider_rx.value = -90\n",
    "    slider_ry.value = -45\n",
    "    slider_rz.value = -90\n",
    "    slider_g.value = 100\n",
    "    slider_speed.value = 50\n",
    "    button_power_on.icon = 'check'\n",
    "    button_power_off.icon = 'uncheck'\n",
    "    \n",
    "reset_joints()"
   ]
  },
  {
   "cell_type": "code",
   "execution_count": 11,
   "id": "4839f9af-769e-4948-a9ba-794135c04704",
   "metadata": {},
   "outputs": [],
   "source": [
    "button_close = widgets.Button(description='Close Camera', button_style='danger')\n",
    "def button_close_Callback(value):\n",
    "    global model\n",
    "    model = 'Exit'\n",
    "    with output: print(model)\n",
    "button_close.on_click(button_close_Callback)"
   ]
  },
  {
   "cell_type": "code",
   "execution_count": 12,
   "id": "58001c68-e707-422d-a75e-2504271409b3",
   "metadata": {},
   "outputs": [],
   "source": [
    "imgbox = widgets.Image(format='jpg', width=640, height=480, layout=widgets.Layout(align_self='center'))\n",
    "model = 'Start'"
   ]
  },
  {
   "cell_type": "code",
   "execution_count": 13,
   "id": "fae1a4df-fd14-4423-a260-087a1ee8f361",
   "metadata": {},
   "outputs": [],
   "source": [
    "# 打开摄像头 Open camera\n",
    "def camera():\n",
    "    global model\n",
    "    capture = cv.VideoCapture(0)\n",
    "    capture.set(cv.CAP_PROP_FRAME_WIDTH, 640)\n",
    "    capture.set(cv.CAP_PROP_FRAME_HEIGHT, 480)\n",
    "    while capture.isOpened():\n",
    "        try:\n",
    "            _, img = capture.read()\n",
    "            if model == 'Exit':\n",
    "                break\n",
    "            imgbox.value = cv.imencode('.jpg', img)[1].tobytes()\n",
    "        except:\n",
    "            break\n",
    "    print(\"capture release\")\n",
    "    capture.release()"
   ]
  },
  {
   "cell_type": "code",
   "execution_count": null,
   "id": "0ce76dcf-fd37-44f0-a83e-443b990efb8e",
   "metadata": {},
   "outputs": [
    {
     "data": {
      "application/vnd.jupyter.widget-view+json": {
       "model_id": "263ab11741e84cbf926bf953e9f4873d",
       "version_major": 2,
       "version_minor": 0
      },
      "text/plain": [
       "HBox(children=(VBox(children=(interactive(children=(IntSlider(value=50, description='Speed:', min=1), Output()…"
      ]
     },
     "metadata": {},
     "output_type": "display_data"
    },
    {
     "data": {
      "application/vnd.jupyter.widget-view+json": {
       "model_id": "0b25a8ef821046d2879f502159df1b98",
       "version_major": 2,
       "version_minor": 0
      },
      "text/plain": [
       "HBox(children=(VBox(children=(interactive(children=(IntSlider(value=32, description='Speed:', min=1), Output()…"
      ]
     },
     "metadata": {},
     "output_type": "display_data"
    },
    {
     "name": "stdout",
     "output_type": "stream",
     "text": [
      "capture release\n"
     ]
    }
   ],
   "source": [
    "threading.Thread(target=camera, ).start()\n",
    "output = widgets.Output()\n",
    "box_group1 = widgets.VBox([widget_speed, button_reset, button_power_on, button_power_off, button_close, output])\n",
    "box_display = widgets.HBox([box_group1, box_joints, imgbox])\n",
    "display(box_display)"
   ]
  }
 ],
 "metadata": {
  "kernelspec": {
   "display_name": ".venv",
   "language": "python",
   "name": "python3"
  },
  "language_info": {
   "codemirror_mode": {
    "name": "ipython",
    "version": 3
   },
   "file_extension": ".py",
   "mimetype": "text/x-python",
   "name": "python",
   "nbconvert_exporter": "python",
   "pygments_lexer": "ipython3",
   "version": "3.8.10"
  }
 },
 "nbformat": 4,
 "nbformat_minor": 5
}
